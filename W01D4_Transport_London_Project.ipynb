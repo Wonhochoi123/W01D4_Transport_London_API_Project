{
 "cells": [
  {
   "cell_type": "markdown",
   "metadata": {},
   "source": [
    "# Mini-Project I\n",
    "During this project, we will practice handling of complex lists and dictionaries in Python. Plus, we will learn how to work with API documentation. Don't be afraid to search for the information in the [**documentation**](https://api.tfl.gov.uk/swagger/ui/index.html?url=/swagger/docs/v1#!/AccidentStats/AccidentStats_Get).\n",
    "\n",
    "Let's go to the tasks, we have some parsing to do :)!!"
   ]
  },
  {
   "cell_type": "code",
   "execution_count": 1,
   "metadata": {},
   "outputs": [],
   "source": [
    "# import packages we need (remember what packages we used yesterday during the API session)\n",
    "import requests\n",
    "import json\n",
    "from IPython.display import JSON\n",
    "import datetime as datetime\n",
    "from pytz import timezone"
   ]
  },
  {
   "cell_type": "code",
   "execution_count": 2,
   "metadata": {},
   "outputs": [
    {
     "name": "stdout",
     "output_type": "stream",
     "text": [
      "<Response [200]>\n"
     ]
    }
   ],
   "source": [
    "requests.get('https://api-portal.tfl.gov.uk/??app_id={app_id}&app_key={app_key}')\n",
    "print(requests.get('https://api-portal.tfl.gov.uk/??app_id={app_id}&app_key={app_key}'))"
   ]
  },
  {
   "cell_type": "markdown",
   "metadata": {},
   "source": [
    "## Demo"
   ]
  },
  {
   "cell_type": "code",
   "execution_count": 3,
   "metadata": {},
   "outputs": [],
   "source": [
    "# don't forget package os                                 **Don't Need any of these, and could not obtain the keys**\n",
    "#app_id = os.environ[\"<your app id name>\"]\n",
    "#app_key = os.environ[\"<your app key name>\"]\n",
    "#url_append = f'?app_id={app_id}&app_key={app_key}'  "
   ]
  },
  {
   "cell_type": "code",
   "execution_count": 4,
   "metadata": {},
   "outputs": [],
   "source": [
    "# print(url_append)"
   ]
  },
  {
   "cell_type": "code",
   "execution_count": 5,
   "metadata": {},
   "outputs": [
    {
     "name": "stdout",
     "output_type": "stream",
     "text": [
      "https://api.tfl.gov.uk/AirQuality\n"
     ]
    }
   ],
   "source": [
    "# URL                                                    **used the original URL and it worked fine**\n",
    "url = \"https://api.tfl.gov.uk/AirQuality\"\n",
    "print(url)"
   ]
  },
  {
   "cell_type": "code",
   "execution_count": 6,
   "metadata": {},
   "outputs": [],
   "source": [
    "# We send the request to the API\n",
    "# NOTE: if you don't have your APP_KEY, run this without the url_append\n",
    "####res = requests.get(url+url_append)                                            **don't need key so don't need to append**\n",
    "res = requests.get(url)\n"
   ]
  },
  {
   "cell_type": "code",
   "execution_count": 7,
   "metadata": {},
   "outputs": [
    {
     "data": {
      "text/plain": [
       "200"
      ]
     },
     "execution_count": 7,
     "metadata": {},
     "output_type": "execute_result"
    }
   ],
   "source": [
    "# We can check if the request was successful\n",
    "res.status_code"
   ]
  },
  {
   "cell_type": "code",
   "execution_count": 8,
   "metadata": {},
   "outputs": [
    {
     "data": {
      "text/plain": [
       "{'$id': '1',\n",
       " '$type': 'Tfl.Api.Presentation.Entities.LondonAirForecast, Tfl.Api.Presentation.Entities',\n",
       " 'updatePeriod': 'hourly',\n",
       " 'updateFrequency': '1',\n",
       " 'forecastURL': 'http://londonair.org.uk/forecast',\n",
       " 'disclaimerText': 'This forecast is intended to provide information on expected pollution levels in areas of significant public exposure. It may not apply in very specific locations close to unusually strong or short-lived local sources of pollution.',\n",
       " 'currentForecast': [{'$id': '2',\n",
       "   '$type': 'Tfl.Api.Presentation.Entities.CurrentForecast, Tfl.Api.Presentation.Entities',\n",
       "   'forecastType': 'Current',\n",
       "   'forecastID': '30873',\n",
       "   'publishedDate': '2021-04-03T12:22:06Z',\n",
       "   'fromDate': '2021-05-03T00:00:00Z',\n",
       "   'toDate': '2021-06-03T23:59:00Z',\n",
       "   'forecastBand': 'Low',\n",
       "   'forecastSummary': 'Low air pollution forecast valid from Friday 5 March to end of Saturday 6 March GMT',\n",
       "   'nO2Band': 'Low',\n",
       "   'o3Band': 'Low',\n",
       "   'pM10Band': 'Low',\n",
       "   'pM25Band': 'Low',\n",
       "   'sO2Band': 'Low',\n",
       "   'forecastText': 'Friday forecast to be dry with periods of sunshine and continued northern air feed. Dry with sunny spells on Saturday.&lt;br/&gt;The expected northerly air flow should ensure a &#39;clean&#39; air feed and good dispersion of any locally produced pollutants.&lt;br/&gt;&lt;br/&gt;Air Pollution is expected to remain &#39;Low&#39; for the following pollutants:&lt;br/&gt;&lt;br/&gt;Nitrogen Dioxide&lt;br/&gt;Ozone&lt;br/&gt;PM10 Particulate&lt;br/&gt;PM2.5 Particulate&lt;br/&gt;Sulphur Dioxide'},\n",
       "  {'$id': '3',\n",
       "   '$type': 'Tfl.Api.Presentation.Entities.CurrentForecast, Tfl.Api.Presentation.Entities',\n",
       "   'forecastType': 'Future',\n",
       "   'forecastID': '30873',\n",
       "   'publishedDate': '2021-04-03T12:22:06Z',\n",
       "   'fromDate': '2021-05-03T00:00:00Z',\n",
       "   'toDate': '2021-06-03T23:59:00Z',\n",
       "   'forecastBand': 'Low',\n",
       "   'forecastSummary': 'Low air pollution forecast valid from Friday 5 March to end of Saturday 6 March GMT',\n",
       "   'nO2Band': 'Low',\n",
       "   'o3Band': 'Low',\n",
       "   'pM10Band': 'Low',\n",
       "   'pM25Band': 'Low',\n",
       "   'sO2Band': 'Low',\n",
       "   'forecastText': 'Friday forecast to be dry with periods of sunshine and continued northern air feed. Dry with sunny spells on Saturday.&lt;br/&gt;The expected northerly air flow should ensure a &#39;clean&#39; air feed and good dispersion of any locally produced pollutants.&lt;br/&gt;&lt;br/&gt;Air Pollution is expected to remain &#39;Low&#39; for the following pollutants:&lt;br/&gt;&lt;br/&gt;Nitrogen Dioxide&lt;br/&gt;Ozone&lt;br/&gt;PM10 Particulate&lt;br/&gt;PM2.5 Particulate&lt;br/&gt;Sulphur Dioxide'}]}"
      ]
     },
     "execution_count": 8,
     "metadata": {},
     "output_type": "execute_result"
    }
   ],
   "source": [
    "# We can export the information that was returned using method .json()\n",
    "res.json()"
   ]
  },
  {
   "cell_type": "code",
   "execution_count": null,
   "metadata": {},
   "outputs": [],
   "source": []
  },
  {
   "cell_type": "markdown",
   "metadata": {},
   "source": [
    "## Task\n",
    "Parse the dictionary and print the AirQuality predictions for tomorrow"
   ]
  },
  {
   "cell_type": "code",
   "execution_count": 9,
   "metadata": {},
   "outputs": [
    {
     "data": {
      "text/plain": [
       "'Low air pollution forecast valid from Friday 5 March to end of Saturday 6 March GMT'"
      ]
     },
     "execution_count": 9,
     "metadata": {},
     "output_type": "execute_result"
    }
   ],
   "source": [
    "#  It was the second one in the list that had the future AirQuality information\n",
    "res.json()['currentForecast'][1]['forecastSummary']"
   ]
  },
  {
   "cell_type": "code",
   "execution_count": null,
   "metadata": {},
   "outputs": [],
   "source": []
  },
  {
   "cell_type": "markdown",
   "metadata": {},
   "source": [
    "## Task\n",
    "What are the different modes of transport which are operated by Transfer for London? How many of modes do they have?\n",
    "\n",
    "Print the list with different modes of transport, plus their count. Example output:\n",
    "```\n",
    "[bus, cable-car,.....]\n",
    "Number of different modes of transport is: xyz\n",
    "```\n",
    "\n",
    "We need to search the documentation for correct request."
   ]
  },
  {
   "cell_type": "code",
   "execution_count": 10,
   "metadata": {},
   "outputs": [
    {
     "name": "stdout",
     "output_type": "stream",
     "text": [
      "['bus', 'cable-car', 'coach', 'cycle', 'cycle-hire', 'dlr', 'interchange-keep-sitting', 'interchange-secure', 'national-rail', 'overground', 'replacement-bus', 'river-bus', 'river-tour', 'taxi', 'tflrail', 'tram', 'tube', 'walking']\n",
      "Number of different modes of transport is: 18\n"
     ]
    }
   ],
   "source": [
    "Mode_url = \"https://api.tfl.gov.uk/Line/Meta/Modes\"\n",
    "MM = requests.get(Mode_url)\n",
    "#                         Mode_list=[]\n",
    "#                         for i in MM.json():\n",
    "#                             q=i['modeName']                      # the reason why I searched for 'modeName' in the \n",
    "#                             Mode_list.append(q)                  # dict is just to make sure that I'm counting one  \n",
    "#                         print(Mode_list)                         # at a time\n",
    "Mode_list=[i['modeName'] for i in MM.json()]\n",
    "print(Mode_list)\n",
    "print(\"Number of different modes of transport is: \"+str(len(Mode_list)) )"
   ]
  },
  {
   "cell_type": "code",
   "execution_count": null,
   "metadata": {},
   "outputs": [],
   "source": []
  },
  {
   "cell_type": "markdown",
   "metadata": {},
   "source": [
    "## Task\n",
    "How many BikePoints in London are operated by Transfor for London? How many docks are in **all** BikePoints? There is the information for empty and full docks for each BikePoint."
   ]
  },
  {
   "cell_type": "code",
   "execution_count": 11,
   "metadata": {},
   "outputs": [
    {
     "name": "stdout",
     "output_type": "stream",
     "text": [
      "Total number of docks in all BikePoints: 31256\n"
     ]
    }
   ],
   "source": [
    "Bike_url='https://api.tfl.gov.uk/BikePoint/'\n",
    "BB=requests.get(Bike_url)\n",
    "I=[0]\n",
    "for A in BB.json():\n",
    "    K=A['additionalProperties']\n",
    "    for C in K:\n",
    "        if C['key']=='NbDocks':\n",
    "            I.append(int(C['value']))\n",
    "        if C['key']=='NbEmptyDocks':\n",
    "            I.append(int(C['value']))\n",
    "print('Total number of docks in all BikePoints: '+str(sum(I)))"
   ]
  },
  {
   "cell_type": "code",
   "execution_count": 12,
   "metadata": {},
   "outputs": [
    {
     "name": "stdout",
     "output_type": "stream",
     "text": [
      "Total number of docks in all BikePoints: 20593\n"
     ]
    }
   ],
   "source": [
    "Bike_url='https://api.tfl.gov.uk/BikePoint/'\n",
    "BB=requests.get(Bike_url)\n",
    "I=[0]\n",
    "for A in BB.json():\n",
    "    K=A['additionalProperties']\n",
    "    for C in K:\n",
    "        if C['key']=='NbBikes':\n",
    "            I.append(int(C['value']))\n",
    "        if C['key']=='NbEmptyDocks':\n",
    "            I.append(int(C['value']))\n",
    "print('Total number of docks in all BikePoints: '+str(sum(I)))\n",
    "\n",
    "\n",
    "#The question kind of suggests to sum up those number of empty and full docks but NbDocks seemes to be already combined value of\n",
    "#'NbEmptyDocks', 'NbBikes, and some exceptions'"
   ]
  },
  {
   "cell_type": "code",
   "execution_count": 13,
   "metadata": {},
   "outputs": [
    {
     "name": "stdout",
     "output_type": "stream",
     "text": [
      "Total number of docks in all BikePoints: 21051\n"
     ]
    }
   ],
   "source": [
    "Bike_url='https://api.tfl.gov.uk/BikePoint/'\n",
    "BB=requests.get(Bike_url)\n",
    "I=[0]\n",
    "for A in BB.json():\n",
    "    K=A['additionalProperties']\n",
    "    for C in K:\n",
    "        if C['key']=='NbDocks':\n",
    "            I.append(int(C['value']))\n",
    "\n",
    "print('Total number of docks in all BikePoints: '+str(sum(I)))\n"
   ]
  },
  {
   "cell_type": "markdown",
   "metadata": {},
   "source": [
    "## Task\n",
    "How many tube and bus lines are in London? Print names of all tube lines."
   ]
  },
  {
   "cell_type": "code",
   "execution_count": 14,
   "metadata": {},
   "outputs": [
    {
     "name": "stdout",
     "output_type": "stream",
     "text": [
      "There are 11 tube lines in London\n",
      "There are 679 bus lines in London\n",
      "['Bakerloo', 'Central', 'Circle', 'District', 'Hammersmith & City', 'Jubilee', 'Metropolitan', 'Northern', 'Piccadilly', 'Victoria', 'Waterloo & City']\n"
     ]
    }
   ],
   "source": [
    "Tube_url='https://api.tfl.gov.uk/Line/mode/tube'\n",
    "Bus_url='https://api.tfl.gov.uk/Line/mode/bus'\n",
    "TT=requests.get(Tube_url)\n",
    "SS=requests.get(Bus_url)\n",
    "\n",
    "Num_tube_lines=len(TT.json())\n",
    "Num_bus_lines=len(SS.json())\n",
    "print('There are '+str(Num_tube_lines)+' tube lines in London')\n",
    "print('There are '+str(Num_bus_lines)+' bus lines in London')\n",
    "\n",
    "print([NN['name'] for NN in TT.json()])"
   ]
  },
  {
   "cell_type": "markdown",
   "metadata": {},
   "source": [
    "## Task\n",
    "How many station has `victoria` line?"
   ]
  },
  {
   "cell_type": "code",
   "execution_count": 15,
   "metadata": {},
   "outputs": [
    {
     "name": "stdout",
     "output_type": "stream",
     "text": [
      "Victoria line has 16 stations\n"
     ]
    }
   ],
   "source": [
    "Stop_url='https://api.tfl.gov.uk/Line/VICTORIA/StopPoints'\n",
    "ST=requests.get(Stop_url)\n",
    "W=0\n",
    "for P in ST.json():\n",
    "    for Q in P['lines']:\n",
    "        if Q['id']=='victoria':\n",
    "            W=W+1\n",
    "print('Victoria line has '+str(W)+' stations')\n",
    "        "
   ]
  },
  {
   "cell_type": "markdown",
   "metadata": {},
   "source": [
    "## Task\n",
    "Plan the journey from Heathrow Airport to Tower Bridge using Bus and Tube? Which way is faster? Example output:\n",
    "```\n",
    "Planned duration:\n",
    "Bus: x minutes\n",
    "Tube: y minutes\n",
    "```\n",
    "\n",
    "We need to search the documentation for correct requests and parameters we need."
   ]
  },
  {
   "cell_type": "code",
   "execution_count": 16,
   "metadata": {},
   "outputs": [
    {
     "name": "stdout",
     "output_type": "stream",
     "text": [
      "planned duration: \n",
      "Bus: 140 minutes \n",
      "Tube: 199 minutes\n"
     ]
    }
   ],
   "source": [
    "import datetime as datetime\n",
    "from pytz import timezone\n",
    "\n",
    "#I imported time and timezone for London to make sure that we are getting the results for London's local time right now right now \n",
    "\n",
    "timezone((\"Europe/London\"))\n",
    "London_time= datetime.datetime.now(timezone(\"Europe/London\")).isoformat()\n",
    "\n",
    "#tried to use the strptime but didn't work with the converted format\n",
    "date=str('?date='+London_time[:4]+London_time[5:7]+London_time[8:10])\n",
    "time=str('&time='+London_time[11:13]+London_time[14:16])\n",
    "\n",
    "Heathrow_Airport_coordinates='51.480764, -0.456982'\n",
    "Tower_Bridge_coordinates='51.5055, -0.0754'\n",
    "\n",
    "Uurl=f'https://api.tfl.gov.uk/Journey/JourneyResults/{Heathrow_Airport_coordinates}/to/{Tower_Bridge_coordinates}{date}{time}'+'&timeIs=Departing'\n",
    "\n",
    "\n",
    "prefer_fac='&journeyPreference=LeastTime' #to make sure that we are looking for the fastest way\n",
    "tube_fac='&mode=tube'\n",
    "bus_fac='&mode=bus'\n",
    "tube_url=str(Uurl+prefer_fac+tube_fac)\n",
    "bus_url=str(Uurl+prefer_fac+bus_fac)\n",
    "\n",
    "tu=requests.get(tube_url)\n",
    "bu=requests.get(bus_url)\n",
    "\n",
    "x=str(tu.json()[\"journeys\"][0]['duration'])\n",
    "y=str(bu.json()[\"journeys\"][0]['duration'])\n",
    "print ('planned duration: \\nBus: '+(x)+' minutes \\nTube: '+(y)+' minutes')"
   ]
  },
  {
   "cell_type": "code",
   "execution_count": 17,
   "metadata": {},
   "outputs": [
    {
     "name": "stdout",
     "output_type": "stream",
     "text": [
      "2021-03-05T12:04:28.072511+00:00\n"
     ]
    }
   ],
   "source": [
    "print(London_time)"
   ]
  },
  {
   "cell_type": "markdown",
   "metadata": {},
   "source": [
    "## Stratch\n",
    "Let's plan the best journey from Heathrow Airport to Tower Bridge with all details\n",
    "```\n",
    "Just like Google Maps!! \n",
    "```"
   ]
  },
  {
   "cell_type": "code",
   "execution_count": 18,
   "metadata": {},
   "outputs": [
    {
     "name": "stdout",
     "output_type": "stream",
     "text": [
      "Here is the best journey!  \n",
      "Now: 2021-03-05T12:04:42 (london local time)\n",
      "Duration: 1 hour and 27 minues\n",
      "\n",
      "1. Walk to Newbury Road / Compass Centre (10 min)             \n",
      "--Departure: T11:51:00, Arrival: T12:01:00\n",
      "          (West Ramp for 61 metres)\n",
      "          (on to Newbury Road, continue for 563 metres)\n",
      "\n",
      "2. n.n. RA2 to Heathrow Central Bus Station (6 min)             \n",
      "--Departure: T12:01:00, Arrival: T12:07:00\n",
      "\n",
      "3. Walk to Heathrow Terminals 2 & 3 Rail Station (8 min)             \n",
      "--Departure: T12:07:00, Arrival: T12:15:00\n",
      "          (Control Tower Road for 140 metres)\n",
      "          (on to Inner Ring West, continue for 69 metres)\n",
      "          (on to Contrail Way, continue for 251 metres)\n",
      "          (for 1012 metres)\n",
      "\n",
      "4. Heathrow Express to London Paddington (15 min)             \n",
      "--Departure: T12:17:00, Arrival: T12:32:00\n",
      "\n",
      "5. Walk to Paddington (8 min)             \n",
      "--Departure: T12:32:00, Arrival: T12:40:00\n",
      "\n",
      "6. Bakerloo line to Baker Street (4 min)             \n",
      "--Departure: T12:41:00, Arrival: T12:45:00\n",
      "\n",
      "7. Jubilee line to London Bridge (10 min)             \n",
      "--Departure: T12:49:00, Arrival: T12:59:00\n",
      "\n",
      "8. Walk to 1 Tower Bridge, Tower Hamlets (19 min)             \n",
      "--Departure: T12:59:00, Arrival: T13:18:00\n",
      "          ( for 14 metres)\n",
      "          (on to Duke Street Hill, continue for 29 metres)\n",
      "          (on to Tooley Street, continue for 209 metres)\n",
      "          (on to More London Place, continue for 93 metres)\n",
      "          (for 136 metres)\n",
      "          (on to More London Place, continue for 44 metres)\n",
      "          (for 111 metres)\n",
      "          (on to The Queens Walk, continue for 140 metres)\n",
      "          (on to stairs, continue for 20 metres)\n",
      "          (on to Tower Bridge Road, continue for 10 metres)\n",
      "          (for 4 metres)\n",
      "          (on to Tower Bridge, continue for 143 metres)\n"
     ]
    }
   ],
   "source": [
    "import datetime as datetime\n",
    "from pytz import timezone\n",
    "\n",
    "\n",
    "\n",
    "prefer_fac='&journeyPreference=LeastTime' #to make sure that we are looking for the fastest way\n",
    "Heathrow_Airport_coordinates='51.480764, -0.456982'\n",
    "Tower_Bridge_coordinates='51.5055, -0.0754'\n",
    "#I imported time and timezone for London to make sure that we are getting the results for London's local time right now right now \n",
    "timezone((\"Europe/London\"))\n",
    "London_time= datetime.datetime.now(timezone(\"Europe/London\")).isoformat()\n",
    "#tried to use the strptime but didn't work with the converted format\n",
    "date=str('?date='+London_time[:4]+London_time[5:7]+London_time[8:10])\n",
    "time=str('&time='+London_time[11:13]+London_time[14:16])\n",
    "Uurl=f'https://api.tfl.gov.uk/Journey/JourneyResults/{Heathrow_Airport_coordinates}/to/{Tower_Bridge_coordinates}{date}{time}'+'&timeIs=Departing'\n",
    "travelurl=str(Uurl+prefer_fac)\n",
    "Jsonsave=(requests.get(travelurl).json()).copy()\n",
    "\n",
    "print('Here is the best journey!  \\nNow: '+London_time[:19]+\" (london local time)\" +'\\nDuration: '\n",
    "      +str(Jsonsave[\"journeys\"][0]['duration']//60)\n",
    "      +' hour and '+str(Jsonsave[\"journeys\"][0]['duration']%60)+' minues')\n",
    "\n",
    "for i in range(len(Jsonsave[\"journeys\"][0]['legs'])):\n",
    "    if Jsonsave[\"journeys\"][0]['legs'][i]['instruction']['steps'] != []:\n",
    "        print('\\n'+str(i+1)+'. '+Jsonsave[\"journeys\"][0]['legs'][i]['instruction']['summary']+\n",
    "              ' ('+str(Jsonsave[\"journeys\"][0]['legs'][i]['duration'])+' min)             \\n--Departure: '\n",
    "              +Jsonsave[\"journeys\"][0]['legs'][i]['departureTime'][10:]+', Arrival: '\n",
    "              +Jsonsave[\"journeys\"][0]['legs'][i]['arrivalTime'][10:])\n",
    "\n",
    "        for t in Jsonsave[\"journeys\"][0]['legs'][i]['instruction']['steps']:\n",
    "            detale=t['description']\n",
    "            print('          ('+detale+')')\n",
    "    else:\n",
    "        print('\\n'+str(i+1)+'. '+Jsonsave[\"journeys\"][0]['legs'][i]['instruction']['summary']\n",
    "              +' ('+str(Jsonsave[\"journeys\"][0]['legs'][i]['duration'])+' min)             \\n--Departure: '\n",
    "              +Jsonsave[\"journeys\"][0]['legs'][i]['departureTime'][10:]+', Arrival: '\n",
    "              +Jsonsave[\"journeys\"][0]['legs'][i]['arrivalTime'][10:])"
   ]
  },
  {
   "cell_type": "markdown",
   "metadata": {},
   "source": [
    "## Stratch\n",
    "Let's plan the best journey from Heathrow Airport to Tower Bridge with all details and search the route for any places in london!\n",
    "```\n",
    "Just like Google Maps!! \n",
    "```"
   ]
  },
  {
   "cell_type": "code",
   "execution_count": 19,
   "metadata": {},
   "outputs": [],
   "source": [
    "pl_type_l=requests.get('https://api.tfl.gov.uk/Place/Meta/PlaceTypes').json().copy()\n",
    "place_dict={}\n",
    "keys=[]\n",
    "values=[]\n",
    "for types in pl_type_l:\n",
    "    pl_l=requests.get('https://api.tfl.gov.uk/Place/Type/'+types).json().copy()\n",
    "    for ddd in pl_l:\n",
    "        keys.append(ddd['commonName'])\n",
    "        values.append(str(ddd['lat'])+', '+str(ddd['lon']))\n",
    "for ky in keys:\n",
    "        place_dict[ky] = values[keys.index(ky)]\n"
   ]
  },
  {
   "cell_type": "code",
   "execution_count": null,
   "metadata": {
    "scrolled": true
   },
   "outputs": [],
   "source": []
  },
  {
   "cell_type": "code",
   "execution_count": 244,
   "metadata": {},
   "outputs": [],
   "source": [
    "\n",
    "with open('place_dict.txt', 'w') as file:\n",
    "     file.write(json.dumps(place_dict)) # use `json.loads` to do the reverse"
   ]
  },
  {
   "cell_type": "code",
   "execution_count": 30,
   "metadata": {},
   "outputs": [],
   "source": [
    "f = open(\"place_dict.txt\", \"r\")\n",
    "print(f.read())"
   ]
  },
  {
   "cell_type": "code",
   "execution_count": 22,
   "metadata": {},
   "outputs": [],
   "source": [
    "dc=open(\"place_dict.txt\", \"r\").read()"
   ]
  },
  {
   "cell_type": "code",
   "execution_count": null,
   "metadata": {},
   "outputs": [],
   "source": []
  },
  {
   "cell_type": "code",
   "execution_count": 23,
   "metadata": {},
   "outputs": [
    {
     "data": {
      "text/plain": [
       "38470"
      ]
     },
     "execution_count": 23,
     "metadata": {},
     "output_type": "execute_result"
    }
   ],
   "source": [
    "len(place_dict)"
   ]
  },
  {
   "cell_type": "code",
   "execution_count": 28,
   "metadata": {},
   "outputs": [],
   "source": [
    "import datetime as datetime\n",
    "from pytz import timezone\n",
    "\n",
    "def the_best_journey(origin, destination):\n",
    "    \n",
    "    prefer_fac='&journeyPreference=LeastTime' #to make sure that we are looking for the fastest way\n",
    "    origin_coordinates=place_dict[origin]\n",
    "    dest_coordinates=place_dict[destination]\n",
    "    #I imported time and timezone for London to make sure that we are getting the results for London's local time right now right now \n",
    "    timezone((\"Europe/London\"))\n",
    "    London_time= datetime.datetime.now(timezone(\"Europe/London\")).isoformat()\n",
    "    #tried to use the strptime but didn't work with the converted format\n",
    "    date=str('?date='+London_time[:4]+London_time[5:7]+London_time[8:10])\n",
    "    time=str('&time='+London_time[11:13]+London_time[14:16])\n",
    "    Uurl=f'https://api.tfl.gov.uk/Journey/JourneyResults/{origin_coordinates}/to/{dest_coordinates}{date}{time}'+'&timeIs=Departing'\n",
    "    travelurl=str(Uurl+prefer_fac)\n",
    "    Jsonsave=(requests.get(travelurl).json()).copy()\n",
    "\n",
    "    print('Here is the best journey from \"'+origin+'\" to \"'+destination +'\"!  \\nNow: '+London_time[:19]+\" (london local time)\" +'\\nDuration: '\n",
    "          +str(Jsonsave[\"journeys\"][0]['duration']//60)\n",
    "          +' hour and '+str(Jsonsave[\"journeys\"][0]['duration']%60)+' minues')\n",
    "\n",
    "    for i in range(len(Jsonsave[\"journeys\"][0]['legs'])):\n",
    "        if Jsonsave[\"journeys\"][0]['legs'][i]['instruction']['steps'] != []:\n",
    "            print('\\n'+str(i+1)+'. '+Jsonsave[\"journeys\"][0]['legs'][i]['instruction']['summary']+\n",
    "                  ' ('+str(Jsonsave[\"journeys\"][0]['legs'][i]['duration'])+' min)             \\n--Departure: '\n",
    "                  +Jsonsave[\"journeys\"][0]['legs'][i]['departureTime'][10:]+', Arrival: '\n",
    "                  +Jsonsave[\"journeys\"][0]['legs'][i]['arrivalTime'][10:])\n",
    "\n",
    "            for t in Jsonsave[\"journeys\"][0]['legs'][i]['instruction']['steps']:\n",
    "                detale=t['description']\n",
    "                print('          ('+detale+')')\n",
    "        else:\n",
    "            print('\\n'+str(i+1)+'. '+Jsonsave[\"journeys\"][0]['legs'][i]['instruction']['summary']\n",
    "                  +' ('+str(Jsonsave[\"journeys\"][0]['legs'][i]['duration'])+' min)             \\n--Departure: '\n",
    "                  +Jsonsave[\"journeys\"][0]['legs'][i]['departureTime'][10:]+', Arrival: '\n",
    "                  +Jsonsave[\"journeys\"][0]['legs'][i]['arrivalTime'][10:])\n"
   ]
  },
  {
   "cell_type": "code",
   "execution_count": 34,
   "metadata": {},
   "outputs": [
    {
     "name": "stdout",
     "output_type": "stream",
     "text": [
      "Here is the best journey from \"Southall Minicab Ltd\" to \"Clarence Walk, Stockwell\"!  \n",
      "Now: 2021-03-05T12:11:04 (london local time)\n",
      "Duration: 1 hour and 21 minues\n",
      "\n",
      "1. Walk to Southall Station (24 min)             \n",
      "--Departure: T12:08:00, Arrival: T12:32:00\n",
      "          (Harewood Terrace for 22 metres)\n",
      "          (on to Norwood Road, continue for 256 metres)\n",
      "          (for 22 metres)\n",
      "          (on to Merrick Road, continue for 649 metres)\n",
      "          (for 19 metres)\n",
      "          (on to Merrick Road, continue for 114 metres)\n",
      "          (for 55 metres)\n",
      "          (on to Merrick Road, continue for 176 metres)\n",
      "          (for 11 metres)\n",
      "          (on to South Road, continue for 81 metres)\n",
      "\n",
      "2. TfL Rail to Ealing Broadway (5 min)             \n",
      "--Departure: T12:32:00, Arrival: T12:37:00\n",
      "\n",
      "3. Central line to Oxford Circus (24 min)             \n",
      "--Departure: T12:39:00, Arrival: T13:03:00\n",
      "\n",
      "4. Victoria line to Stockwell (9 min)             \n",
      "--Departure: T13:08:00, Arrival: T13:17:00\n",
      "\n",
      "5. Walk to 1 Clarence Walk, Clapham (12 min)             \n",
      "--Departure: T13:17:00, Arrival: T13:29:00\n",
      "          (Clapham Road for 139 metres)\n",
      "          (on to Clapham Road, continue for 188 metres)\n",
      "          (on to Jeffreys Road, continue for 152 metres)\n",
      "          (on to Clarence Walk, continue for 11 metres)\n"
     ]
    }
   ],
   "source": [
    "the_best_journey('Southall Minicab Ltd', 'Clarence Walk, Stockwell')"
   ]
  },
  {
   "cell_type": "code",
   "execution_count": 31,
   "metadata": {},
   "outputs": [
    {
     "name": "stdout",
     "output_type": "stream",
     "text": [
      "Here is the best journey from \"Heathrow Airport\" to \"A100 Tower Bridge Road A200 Tooley Street\"!  \n",
      "Now: 2021-03-05T12:08:58 (london local time)\n",
      "Duration: 1 hour and 24 minues\n",
      "\n",
      "1. Walk to Newbury Road / Compass Centre (10 min)             \n",
      "--Departure: T11:51:00, Arrival: T12:01:00\n",
      "          (West Ramp for 61 metres)\n",
      "          (on to Newbury Road, continue for 563 metres)\n",
      "\n",
      "2. n.n. RA2 to Heathrow Central Bus Station (6 min)             \n",
      "--Departure: T12:01:00, Arrival: T12:07:00\n",
      "\n",
      "3. Walk to Heathrow Terminals 2 & 3 Rail Station (8 min)             \n",
      "--Departure: T12:07:00, Arrival: T12:15:00\n",
      "          (Control Tower Road for 140 metres)\n",
      "          (on to Inner Ring West, continue for 69 metres)\n",
      "          (on to Contrail Way, continue for 251 metres)\n",
      "          (for 1012 metres)\n",
      "\n",
      "4. Heathrow Express to London Paddington (15 min)             \n",
      "--Departure: T12:17:00, Arrival: T12:32:00\n",
      "\n",
      "5. Walk to Paddington (8 min)             \n",
      "--Departure: T12:32:00, Arrival: T12:40:00\n",
      "\n",
      "6. Bakerloo line to Baker Street (4 min)             \n",
      "--Departure: T12:41:00, Arrival: T12:45:00\n",
      "\n",
      "7. Jubilee line to London Bridge (10 min)             \n",
      "--Departure: T12:49:00, Arrival: T12:59:00\n",
      "\n",
      "8. Walk to 185 Tower Bridge Road, Bermondsey (16 min)             \n",
      "--Departure: T12:59:00, Arrival: T13:15:00\n",
      "          ( for 14 metres)\n",
      "          (on to Duke Street Hill, continue for 29 metres)\n",
      "          (on to Tooley Street, continue for 710 metres)\n",
      "          (on to Tower Bridge Road, continue for 15 metres)\n"
     ]
    }
   ],
   "source": [
    "the_best_journey('Heathrow Airport', 'A100 Tower Bridge Road A200 Tooley Street')"
   ]
  },
  {
   "cell_type": "code",
   "execution_count": null,
   "metadata": {},
   "outputs": [],
   "source": []
  }
 ],
 "metadata": {
  "kernelspec": {
   "display_name": "Python 3",
   "language": "python",
   "name": "python3"
  },
  "language_info": {
   "codemirror_mode": {
    "name": "ipython",
    "version": 3
   },
   "file_extension": ".py",
   "mimetype": "text/x-python",
   "name": "python",
   "nbconvert_exporter": "python",
   "pygments_lexer": "ipython3",
   "version": "3.6.12"
  }
 },
 "nbformat": 4,
 "nbformat_minor": 4
}
